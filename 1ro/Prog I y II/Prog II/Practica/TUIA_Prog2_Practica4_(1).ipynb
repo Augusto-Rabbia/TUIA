{
  "nbformat": 4,
  "nbformat_minor": 0,
  "metadata": {
    "colab": {
      "provenance": [],
      "collapsed_sections": []
    },
    "kernelspec": {
      "name": "python3",
      "display_name": "Python 3"
    },
    "language_info": {
      "name": "python"
    }
  },
  "cells": [
    {
      "cell_type": "markdown",
      "source": [
        "# Práctica 4: Estrategias"
      ],
      "metadata": {
        "id": "7u24cwGnQTGB"
      }
    },
    {
      "cell_type": "code",
      "source": [
        "!pip install pytest"
      ],
      "metadata": {
        "id": "U3JF-b9GQTGN"
      },
      "execution_count": null,
      "outputs": []
    },
    {
      "cell_type": "markdown",
      "source": [
        "## Fuerza Bruta"
      ],
      "metadata": {
        "id": "fL7PehvY7sbm"
      }
    },
    {
      "cell_type": "markdown",
      "source": [
        "**Ejercicio 1**: Dado un número entero compuesto, que es producto de dos números primos, hacer un algoritmo de fuerza bruta que encuentre su factorización. Analice la cantidad operaciones que este algoritmo requiere."
      ],
      "metadata": {
        "id": "DE49vwGLUvLr"
      }
    },
    {
      "cell_type": "code",
      "source": [
        "%%file test_break_encryption.py\n",
        "\n",
        "## Code here"
      ],
      "metadata": {
        "id": "-cEbjdRqUvLr"
      },
      "execution_count": null,
      "outputs": []
    },
    {
      "cell_type": "code",
      "source": [
        "!python -m pytest"
      ],
      "metadata": {
        "id": "OrK_cNjnUvLs"
      },
      "execution_count": null,
      "outputs": []
    },
    {
      "cell_type": "markdown",
      "source": [
        "**Ejercicio 2**: Encuentre todas las soluciones naturales de la ecuación $a² + b² = c²$, donde $1\\leq a, b, c \\leq n$. Estime la cantidad de operaciones del algoritmo diseñado."
      ],
      "metadata": {
        "id": "OiqDgyg39tbZ"
      }
    },
    {
      "cell_type": "code",
      "source": [
        "%%file test_natural_pythagoras.py\n",
        "\n",
        "## Code here"
      ],
      "metadata": {
        "id": "77fWmDdl9tbb"
      },
      "execution_count": null,
      "outputs": []
    },
    {
      "cell_type": "code",
      "source": [
        "!python -m pytest"
      ],
      "metadata": {
        "id": "gQjCUuz29tbd"
      },
      "execution_count": null,
      "outputs": []
    },
    {
      "cell_type": "markdown",
      "source": [
        "**Ejercicio 3**: Dada una lista de $n$ números y un número mágico, encontrar 3 números cuya suma sea el número mágico. Se pueden repetir números.\n",
        "\n",
        "¿Cuál es el peor caso? Determine la cantidad de operaciones en el peor caso, en función de $n$.\n",
        "\n",
        "¿Y si aumentamos la cantidad de números a sumar, de 3, a un número arbitrario $m$?\n",
        "\n",
        "Extra: programar este último algoritmo donde dejamos libre $m$\n",
        "\n",
        "_Ayuda: utilice itertools.product_"
      ],
      "metadata": {
        "id": "G5u4FQJVTFdz"
      }
    },
    {
      "cell_type": "code",
      "source": [
        "%%file test_sum_of_m.py\n",
        "\n",
        "## Code here"
      ],
      "metadata": {
        "id": "hhyRPmrpTFd0"
      },
      "execution_count": null,
      "outputs": []
    },
    {
      "cell_type": "code",
      "source": [
        "!python -m pytest"
      ],
      "metadata": {
        "colab": {
          "base_uri": "https://localhost:8080/"
        },
        "id": "W0huF79KTFd1",
        "outputId": "b2cabf51-d789-44ca-fd44-181da8d39794"
      },
      "execution_count": null,
      "outputs": [
        {
          "output_type": "stream",
          "name": "stdout",
          "text": [
            "\u001b[1m============================= test session starts ==============================\u001b[0m\n",
            "platform linux -- Python 3.7.14, pytest-3.6.4, py-1.11.0, pluggy-0.7.1\n",
            "rootdir: /content, inifile:\n",
            "plugins: typeguard-2.7.1\n",
            "\u001b[1m\rcollecting 0 items                                                             \u001b[0m\u001b[1m\rcollecting 1 item                                                              \u001b[0m\u001b[1m\rcollecting 2 items                                                             \u001b[0m\u001b[1m\rcollecting 3 items                                                             \u001b[0m\u001b[1m\rcollecting 5 items                                                             \u001b[0m\u001b[1m\rcollected 5 items                                                              \u001b[0m\n",
            "\n",
            "test_break_encryption.py .\u001b[36m                                               [ 20%]\u001b[0m\n",
            "test_natural_pythagoras.py .\u001b[36m                                             [ 40%]\u001b[0m\n",
            "test_sum_of_m.py .\u001b[36m                                                       [ 60%]\u001b[0m\n",
            "test_walkable_path.py ..\u001b[36m                                                 [100%]\u001b[0m\n",
            "\n",
            "\u001b[32m\u001b[1m=========================== 5 passed in 0.03 seconds ===========================\u001b[0m\n"
          ]
        }
      ]
    },
    {
      "cell_type": "markdown",
      "source": [
        "## Divide & Conquer"
      ],
      "metadata": {
        "id": "2XwU_IdQSVJC"
      }
    },
    {
      "cell_type": "markdown",
      "source": [
        "**Ejercicio 4**: ¿Es quicksort un algoritmo Divide & Conquer? Justifique"
      ],
      "metadata": {
        "id": "5Aucyf6KSZFf"
      }
    },
    {
      "cell_type": "markdown",
      "source": [
        "**Ejercicio 5**: Sume una lista de números sin usar bucles. ¿Cómo cambia la cantidad de operaciones?"
      ],
      "metadata": {
        "id": "rG_h_vvsYwQd"
      }
    },
    {
      "cell_type": "code",
      "source": [
        "%%file test_dc_sum.py\n",
        "\n",
        "## Code here"
      ],
      "metadata": {
        "id": "kuK3F_OBYwQf"
      },
      "execution_count": null,
      "outputs": []
    },
    {
      "cell_type": "code",
      "source": [
        "!python -m pytest"
      ],
      "metadata": {
        "colab": {
          "base_uri": "https://localhost:8080/"
        },
        "outputId": "6458d7a2-e10c-4f9e-ec27-5ab422fa540c",
        "id": "eea1yubEYwQg"
      },
      "execution_count": null,
      "outputs": [
        {
          "output_type": "stream",
          "name": "stdout",
          "text": [
            "\u001b[1m============================= test session starts ==============================\u001b[0m\n",
            "platform linux -- Python 3.7.14, pytest-3.6.4, py-1.11.0, pluggy-0.7.1\n",
            "rootdir: /content, inifile:\n",
            "plugins: typeguard-2.7.1\n",
            "\u001b[1m\rcollecting 0 items                                                             \u001b[0m\u001b[1m\rcollecting 1 item                                                              \u001b[0m\u001b[1m\rcollecting 2 items                                                             \u001b[0m\u001b[1m\rcollecting 3 items                                                             \u001b[0m\u001b[1m\rcollecting 4 items                                                             \u001b[0m\u001b[1m\rcollecting 6 items                                                             \u001b[0m\u001b[1m\rcollected 6 items                                                              \u001b[0m\n",
            "\n",
            "test_break_encryption.py .\u001b[36m                                               [ 16%]\u001b[0m\n",
            "test_dc_sum.py .\u001b[36m                                                         [ 33%]\u001b[0m\n",
            "test_natural_pythagoras.py .\u001b[36m                                             [ 50%]\u001b[0m\n",
            "test_sum_of_m.py .\u001b[36m                                                       [ 66%]\u001b[0m\n",
            "test_walkable_path.py ..\u001b[36m                                                 [100%]\u001b[0m\n",
            "\n",
            "\u001b[32m\u001b[1m=========================== 6 passed in 0.03 seconds ===========================\u001b[0m\n"
          ]
        }
      ]
    },
    {
      "cell_type": "markdown",
      "source": [
        "**Ejercicio 6**: Dada una grilla, modelada como una lista de listas, donde ```\".\"``` representa suelo caminable, y ```\"o\"``` representa suelo no caminable, determine si hay un camino desde la celda $(0, 0)$ a la celda $(n - 1, n - 1)$ donde solamente nos movamos hacia la derecha o hacia abajo.\n",
        "\n",
        "- La celda $(0, 0)$ la consideramos arriba a la izquierda y la $(n - 1, n - 1)$ la de abajo a la derecha.\n",
        "- Los valores en estas celdas son siempre caminables.\n",
        "- No nos movemos en ambas direcciones a la vez\n",
        "\n",
        "```python\n",
        ". o o . .\n",
        ". o . . .\n",
        ". . . o o\n",
        ". . . . o\n",
        "o o o . . # SI\n",
        "\n",
        ". o . . .\n",
        ". . . o .\n",
        ". o o . .\n",
        ". . o . o\n",
        "o . o . . # NO\n",
        "```\n",
        "\n",
        "_Ayuda: Haga una recursión donde prueba ir por derecha y por abajo, use la posición actual como parámetro de la recursión_\n",
        "\n",
        "Como un extra, haga el algoritmo para que retorne la lista de celdas que son el camino a seguir."
      ],
      "metadata": {
        "id": "NAW4D1IOCoQa"
      }
    },
    {
      "cell_type": "code",
      "source": [
        "%%file test_walkable_path.py\n",
        "\n",
        "from math import sqrt\n",
        "\n",
        "class Grid:\n",
        "  def __init__(self, string):\n",
        "    raw_split = string.replace(\"\\n\", \" \").replace(\"\\t\", \" \").split(\" \")\n",
        "\n",
        "    self.cells = [symbol for symbol in raw_split if symbol != \"\"]\n",
        "    \n",
        "  def at(self, x, y):\n",
        "    return self.cells[x + self.size() * y]\n",
        "\n",
        "  def size(self):\n",
        "    return int(sqrt(len(self.cells)))\n",
        "\n",
        "## Code here"
      ],
      "metadata": {
        "id": "_-XxFjzkCoQc"
      },
      "execution_count": null,
      "outputs": []
    },
    {
      "cell_type": "code",
      "source": [
        "!python -m pytest"
      ],
      "metadata": {
        "id": "x1UUCSoQCoQd"
      },
      "execution_count": null,
      "outputs": []
    },
    {
      "cell_type": "markdown",
      "source": [
        "## Greedy"
      ],
      "metadata": {
        "id": "Mp75quWIanOS"
      }
    },
    {
      "cell_type": "markdown",
      "source": [
        "**Ejercicio 7**: ¿Es selection sort un algoritmo Greedy? Justifique"
      ],
      "metadata": {
        "id": "ncgZR2xaanOY"
      }
    },
    {
      "cell_type": "markdown",
      "source": [
        "**Ejercicio 8**: Se tiene un árbol binario de números que cumple 3 propiedades:\n",
        "1. Cada nodo es menor a sus dos hijos\n",
        "2. Es completo\n",
        "3. Todas las hojas están a la misma distancia de la raíz\n",
        "\n",
        "Hayar el camino a una hoja cuya suma sea máxima.\n",
        "\n",
        "_Trivia: los árboles que cumplen la propiedad 1 se llaman montículos, o **heaps**_"
      ],
      "metadata": {
        "id": "wtblzp7Fa5MA"
      }
    },
    {
      "cell_type": "code",
      "source": [
        "%%file test_largest_sum_path.py\n",
        "\n",
        "## Code here"
      ],
      "metadata": {
        "id": "CEbrZrZra5MB"
      },
      "execution_count": null,
      "outputs": []
    },
    {
      "cell_type": "code",
      "source": [
        "!python -m pytest"
      ],
      "metadata": {
        "id": "by8wzZIHa5MC"
      },
      "execution_count": null,
      "outputs": []
    },
    {
      "cell_type": "markdown",
      "source": [
        "**Ejercicio 9**: Tenemos una lista de tareas, cada tarea se simboliza con el tiempo que toma completarla, pero tenemos un tiempo límite $T$ que probablemente no nos alcance para hacerlas todas.\n",
        "\n",
        "¿Cuál es la mayor cantidad de tareas que puedo completar en $T$ tiempo o menos?\n",
        "\n",
        "Ejemplo:\n",
        "```python\n",
        "numeros = [5, 9, 2, 6, 1]\n",
        "T = 10\n",
        "# Respuesta: 3\n",
        "```"
      ],
      "metadata": {
        "id": "E3KZzsxYiqTz"
      }
    },
    {
      "cell_type": "code",
      "source": [
        "%%file test_maximizing_tasks.py\n",
        "\n",
        "## Code here"
      ],
      "metadata": {
        "id": "k5cF5rjaiqUF"
      },
      "execution_count": null,
      "outputs": []
    },
    {
      "cell_type": "code",
      "source": [
        "!python -m pytest"
      ],
      "metadata": {
        "id": "AUouY-_eiqUF"
      },
      "execution_count": null,
      "outputs": []
    },
    {
      "cell_type": "markdown",
      "source": [
        "**Ejercicio Extra**: La codificación de Huffman es un algoritmo de compresión de datos. A los elementos más frecuentes se les asigna cadenas de bits más cortas.\n",
        "\n",
        "Se emplea un árbol para la codificación, donde los nodos internos no tienen datos, la rama izquierda representa leer un 0, la rama derecha representa leer un 1, y al llegar a la hoja interpretamos el dato que allí se encuentra.\n",
        "\n",
        "Ejemplo:\n",
        "\n",
        "Dado el siguiente árbol de codificación de Huffman\n",
        "```\n",
        "   .\n",
        " 0/ \\1\n",
        " /   \\\n",
        "a  0/ \\1\n",
        "   b   c\n",
        "```\n",
        "y la cadena de bits\n",
        "```\n",
        "10101001\n",
        "```\n",
        "interpretaríamos\n",
        "```\n",
        "1 -> a\n",
        "01 -> b\n",
        "01 -> b\n",
        "00 -> c\n",
        "1 -> a\n",
        "```\n",
        "Está garantizado que, si la cadena de bits salió de ese árbol, entonces la interpretación siempre se puede realizar sin errores.\n",
        "\n",
        "El algoritmo para construir el árbol toma siempre los dos nodos con menor frecuencia y los une en un nodo interno, cuyo valor es la suma de las frecuencias, el menor de los dos hijos va a la rama del 0, y el mayor a la del 1, e itera este proceso Greedy hasta que nos quede un solo nodo, la raíz del árbol entero.\n",
        "\n",
        "Implementar el algoritmo que transforma un string en un Árbol de Huffman para crear el árbol. Como extra, además escribir el algoritmo de interpretación de secuencias de 1s y 0s. El algoritmo toma los 2 nodos con menor frecuencia y crea un nuevo nodo interno."
      ],
      "metadata": {
        "id": "OqF-LaU2eN0J"
      }
    },
    {
      "cell_type": "code",
      "source": [
        "%%file test_huffman.py\n",
        "\n",
        "# Me gustaría mostrar este en clase pero quizás no hagamos tiempo"
      ],
      "metadata": {
        "id": "7rk8PQtFeN0L"
      },
      "execution_count": null,
      "outputs": []
    },
    {
      "cell_type": "code",
      "source": [
        "!python -m pytest"
      ],
      "metadata": {
        "id": "eaND0cdZeN0M"
      },
      "execution_count": null,
      "outputs": []
    }
  ]
}