{
  "nbformat": 4,
  "nbformat_minor": 0,
  "metadata": {
    "colab": {
      "provenance": [],
      "collapsed_sections": []
    },
    "kernelspec": {
      "name": "python3",
      "display_name": "Python 3"
    },
    "language_info": {
      "name": "python"
    }
  },
  "cells": [
    {
      "cell_type": "markdown",
      "source": [
        "# Práctica 5: Grafos\n",
        "\n",
        "Para ayudarse a resolver, leer la documentación del paquete [networkx](https://networkx.org/documentation/stable/reference/index.html)\n",
        "\n",
        "Los ejercicios están inspirados de la sección de grafos de [CSES](https://cses.fi/problemset/list/)"
      ],
      "metadata": {
        "id": "7u24cwGnQTGB"
      }
    },
    {
      "cell_type": "code",
      "source": [
        "!pip install pytest\n",
        "!pip install networkx"
      ],
      "metadata": {
        "id": "U3JF-b9GQTGN"
      },
      "execution_count": null,
      "outputs": []
    },
    {
      "cell_type": "code",
      "source": [
        "%%file grid.py\n",
        "\n",
        "from math import sqrt\n",
        "\n",
        "class Grid:\n",
        "  def __init__(self, string, ancho, alto):\n",
        "    raw_split = string.replace(\"\\n\", \" \").replace(\"\\t\", \" \").split(\" \")\n",
        "\n",
        "    self.cells = [symbol for symbol in raw_split if symbol != \"\"]\n",
        "    self.ancho = ancho\n",
        "    self.alto = alto\n",
        "    \n",
        "  def at(self, x, y):\n",
        "    assert 0 <= x < self.ancho\n",
        "    assert 0 <= y < self.alto\n",
        "    return self.cells[x + self.ancho * y]"
      ],
      "metadata": {
        "id": "WLeTk7pmk8IM"
      },
      "execution_count": null,
      "outputs": []
    },
    {
      "cell_type": "markdown",
      "source": [
        "**Ejercicio 1**: Construir los grafos $P_4, C_4, W_5, K_5, K_{2,3}$ programáticamente con el módulo `networkx`, y pedirle la construcción de sus matrices de adyacencia e incidencia donde:\n",
        "\n",
        "- $P_n$ es el grafo camino $n$ vértices\n",
        "- $C_n$ es el grafo ciclo de $n$ vértices\n",
        "- $W_n$ es el grafo rueda de $n$ vértices\n",
        "- $K_n$ es el grafo completo $n$ vértices\n",
        "- $K_{n,m}$ es el grafo bipartito completo $n$ y $m$ vértices"
      ],
      "metadata": {
        "id": "d3wX4oGm42Cc"
      }
    },
    {
      "cell_type": "code",
      "source": [
        "import networkx as nx\n",
        "\n",
        "### Código"
      ],
      "metadata": {
        "id": "T_TrEyu-42Ce"
      },
      "execution_count": null,
      "outputs": []
    },
    {
      "cell_type": "code",
      "source": [
        "!python -m pytest"
      ],
      "metadata": {
        "id": "FkZ8XVHc42Cf"
      },
      "execution_count": null,
      "outputs": []
    },
    {
      "cell_type": "markdown",
      "source": [
        "**Ejercicio 2**: Se le da un mapa de un edificio y su tarea es contar el número de habitaciones. El tamaño del mapa es de $n \\times m$ cuadrados, y cada cuadrado es piso o pared. Puede caminar hacia la izquierda, derecha, arriba y abajo a través de los cuadrados del piso. Los pisos serán ' . ' y las paredes ' * '.\n",
        "\n",
        "En el siguiente ejemplo hay 3 habitaciones:\n",
        "```\n",
        "# # # # # # # #\n",
        "# . . # . . . #\n",
        "# # # # . # . #\n",
        "# . . # . . . #\n",
        "# # # # # # # #\n",
        "```\n",
        "\n",
        "_Inspirado en [Counting Rooms](https://cses.fi/problemset/task/1192)_\n"
      ],
      "metadata": {
        "id": "DE49vwGLUvLr"
      }
    },
    {
      "cell_type": "code",
      "source": [
        "%%file test_counting_rooms.py\n",
        "\n",
        "import networkx as nx\n",
        "from grid import Grid\n",
        "\n",
        "### Código"
      ],
      "metadata": {
        "id": "M9BOxZKIbnQE"
      },
      "execution_count": null,
      "outputs": []
    },
    {
      "cell_type": "code",
      "source": [
        "!python -m pytest"
      ],
      "metadata": {
        "id": "AUouY-_eiqUF"
      },
      "execution_count": null,
      "outputs": []
    },
    {
      "cell_type": "markdown",
      "source": [
        "**Ejercicio 3**: Se nos da un mapa de un laberinto, donde hay que encontrar un camino de principio a fin. Se puede caminar hacia la izquierda, derecha, arriba y abajo. A es el inicio y B es el final.\n",
        "\n",
        "Imprima la ruta más corta. Puede imprimir cualquier solución válida.\n",
        "\n",
        "En el siguiente ejemplo el camino va izquierda, abajo, derecha al fondo y arriba:\n",
        "```\n",
        "# # # # # # # #\n",
        "# . A # . . . #\n",
        "# . # # . # B #\n",
        "# . . . . . . #\n",
        "# # # # # # # #\n",
        "```\n",
        "\n",
        "_Inspirado en [Labyrinth](https://cses.fi/problemset/task/1193)_\n"
      ],
      "metadata": {
        "id": "Axe39E88pah1"
      }
    },
    {
      "cell_type": "code",
      "source": [
        "%%file test_labyrinth.py\n",
        "\n",
        "import networkx as nx\n",
        "from grid import Grid\n",
        "\n",
        "### Código"
      ],
      "metadata": {
        "id": "fdY0BGk_pah2"
      },
      "execution_count": null,
      "outputs": []
    },
    {
      "cell_type": "code",
      "source": [
        "!python -m pytest"
      ],
      "metadata": {
        "id": "r_tejl8Qpah2"
      },
      "execution_count": null,
      "outputs": []
    },
    {
      "cell_type": "markdown",
      "source": [
        "**Ejercicio 4**: Hay ciudades numeradas con conexiones de vuelos entre ellas. Determine la longitud de la ruta más corta desde la ciudad 1 a todas las ciudades.\n",
        "\n",
        "Cada conexión de vuelo cuenta con ciudad origen, ciudad destino y longitud de la ruta. Puede haber más de una conexión entre un par de ciudades, y las conexiones no son bidireccionales.\n",
        "\n",
        "Puede suponer que se puede llegar a todas las ciudades.\n",
        "\n",
        "En el siguiente ejemplo, los caminos más cortos son: 0 para la ciudad 1, 5 para la ciudad 2 y 2 para la ciudad 3:\n",
        "```\n",
        "1 2 6\n",
        "1 3 2\n",
        "3 2 3\n",
        "1 3 4\n",
        "```\n",
        "\n",
        "_Inspirado en [Shortest Routes I](https://cses.fi/problemset/task/1671)_\n"
      ],
      "metadata": {
        "id": "rBa2fWTIu2DN"
      }
    },
    {
      "cell_type": "code",
      "source": [
        "%%file test_shortest_routes.py\n",
        "\n",
        "import networkx as nx\n",
        "\n",
        "### Código"
      ],
      "metadata": {
        "id": "fiSANuHIv03L"
      },
      "execution_count": null,
      "outputs": []
    },
    {
      "cell_type": "code",
      "source": [
        "!python -m pytest"
      ],
      "metadata": {
        "id": "qvNnkNHjv03N"
      },
      "execution_count": null,
      "outputs": []
    },
    {
      "cell_type": "markdown",
      "source": [
        "**Ejercicio 5**: Hay ciudades conectadas por caminos. Desafortunadamente, el estado de las carreteras es tan malo que no se pueden utilizar. Tu tarea es reparar algunas de las carreteras para que haya una ruta decente entre dos ciudades.\n",
        "\n",
        "Para cada camino, se conoce su costo de reparación. Encuentre una solución donde el costo total sea lo más pequeño posible.\n",
        "\n",
        "Todos los caminos son de doble sentido. Todo camino esta entre dos ciudades diferentes, y como máximo hay un camino entre dos ciudades.\n",
        "\n",
        "En el siguiente ejemplo, la solución es 14:\n",
        "```\n",
        "1 2 3\n",
        "2 3 5\n",
        "2 4 2\n",
        "3 4 8\n",
        "5 1 7\n",
        "5 4 4\n",
        "```\n",
        "\n",
        "_Inspirado en [Road Reparation](https://cses.fi/problemset/task/1675)_"
      ],
      "metadata": {
        "id": "txrp21jd1eoK"
      }
    },
    {
      "cell_type": "code",
      "source": [
        "%%file test_road_reparation.py\n",
        "\n",
        "import networkx as nx\n",
        "\n",
        "### Código"
      ],
      "metadata": {
        "id": "e1ZGy0Re2HEu"
      },
      "execution_count": null,
      "outputs": []
    },
    {
      "cell_type": "code",
      "source": [
        "!python -m pytest"
      ],
      "metadata": {
        "id": "ZFUkvNSa2HEv"
      },
      "execution_count": null,
      "outputs": []
    }
  ]
}