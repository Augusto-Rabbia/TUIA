{
  "nbformat": 4,
  "nbformat_minor": 0,
  "metadata": {
    "colab": {
      "provenance": [],
      "collapsed_sections": []
    },
    "kernelspec": {
      "name": "python3",
      "display_name": "Python 3"
    },
    "language_info": {
      "name": "python"
    }
  },
  "cells": [
    {
      "cell_type": "markdown",
      "source": [
        "# Práctica 2: Tabla Hash\n",
        "\n",
        "La práctica se centra en los métodos de inserción y de búsqueda de tablas hash, pero no de borrado. Esta última operación es un poco difícil para direccionamiento abierto."
      ],
      "metadata": {
        "id": "7u24cwGnQTGB"
      }
    },
    {
      "cell_type": "code",
      "source": [
        "!pip install pytest"
      ],
      "metadata": {
        "id": "U3JF-b9GQTGN"
      },
      "execution_count": null,
      "outputs": []
    },
    {
      "cell_type": "markdown",
      "source": [
        "**Ejercicio 1**: Implemente una clase que contenga internamente una tabla hash que inicie vacía, o sea, una lista del tamaño especificado y repleta del valor None. *Ayuda: puede usar un for, una lista por comprensión o multiplicar una lista unitaria*."
      ],
      "metadata": {
        "id": "3OfECfbYQTGO"
      }
    },
    {
      "cell_type": "code",
      "source": [
        "%%file test_creacion_tabla_hash.py\n",
        "\n",
        "# Código"
      ],
      "metadata": {
        "id": "Zq2V9ms5QTGP"
      },
      "execution_count": null,
      "outputs": []
    },
    {
      "cell_type": "code",
      "source": [
        "!python -m pytest"
      ],
      "metadata": {
        "id": "-dRZUofXQTGS"
      },
      "execution_count": null,
      "outputs": []
    },
    {
      "cell_type": "markdown",
      "source": [
        "**Ejercicio 2**: Se quiere rellenar el stock de un supermercado. Se sabe que los códigos de los productos van del 000 al 999. Se ingresa alguna cantidad arbitraria de códigos (no necesariamente todos) junto con la cantidad que hay en stock. Herede una clase de hashing directo y utilícela para resolver."
      ],
      "metadata": {
        "id": "deZDQuPlQTGS"
      }
    },
    {
      "cell_type": "code",
      "source": [
        "%%file test_hashing_directo.py\n",
        "\n",
        "# Código"
      ],
      "metadata": {
        "id": "Nl4_A3VVQTGT"
      },
      "execution_count": null,
      "outputs": []
    },
    {
      "cell_type": "code",
      "source": [
        "!python -m pytest"
      ],
      "metadata": {
        "id": "XtyQvoNgQTGV"
      },
      "execution_count": null,
      "outputs": []
    },
    {
      "cell_type": "markdown",
      "source": [
        "**Ejercicio 3**: Se quiere mejorar la solución anterior. Ahora nos dicen que si bien los códigos van del 000 al 999, nunca se ingresarán más de 50. Resuelva usando otra clase que implemente direccionamiento abierto con sondeo lineal, achicando la memoria utilizada.\n",
        "\n",
        "*Ayuda: utilice una clase Cell auxiliar con el código y el stock. No necesariamente un código termina en el índice de su hash. Con el sondeo lineal buscamos dónde fue realmente a parar el código buscado*"
      ],
      "metadata": {
        "id": "_x_lDR9XQTGW"
      }
    },
    {
      "cell_type": "code",
      "source": [
        "%%file test_hashing_abierto.py\n",
        "\n",
        "# Código"
      ],
      "metadata": {
        "id": "bdP2YeEuQTGX"
      },
      "execution_count": null,
      "outputs": []
    },
    {
      "cell_type": "code",
      "source": [
        "!python -m pytest"
      ],
      "metadata": {
        "id": "rBZTaAt2QTGa"
      },
      "execution_count": null,
      "outputs": []
    },
    {
      "cell_type": "markdown",
      "source": [
        "**Ejercicio 4**: Escriba una función de hash que implemente el método de Horner con coeficiente 37. *Ayuda: busque la función ord*"
      ],
      "metadata": {
        "id": "QQfoIN0IQTGb"
      }
    },
    {
      "cell_type": "code",
      "source": [
        "%%file test_horner.py\n",
        "\n",
        "# Código"
      ],
      "metadata": {
        "id": "5Yt6a5yBQTGc"
      },
      "execution_count": null,
      "outputs": []
    },
    {
      "cell_type": "code",
      "source": [
        "!python -m pytest"
      ],
      "metadata": {
        "id": "GxOhjsDKQTGd"
      },
      "execution_count": null,
      "outputs": []
    },
    {
      "cell_type": "markdown",
      "source": [
        "**Ejercicio 5**: Utilizando el resultado numérico de Horner, convierta iterativamente trozos del número a un caracter para producir un string. Básese en el siguiente extracto de código\n",
        "```python\n",
        "# repetir esto hasta que el numero sea 0, acumular los caracteres\n",
        "caracter = chr(numero % 64 + 64)\n",
        "numero = numero // 64\n",
        "```"
      ],
      "metadata": {
        "id": "4BI4yR3XQTGd"
      }
    },
    {
      "cell_type": "code",
      "source": [
        "%%file test_password_hash.py\n",
        "\n",
        "# Código"
      ],
      "metadata": {
        "id": "HTLuoVJ8QTGe"
      },
      "execution_count": null,
      "outputs": []
    },
    {
      "cell_type": "code",
      "source": [
        "!python -m pytest"
      ],
      "metadata": {
        "id": "vpfs3oNZQTGf"
      },
      "execution_count": null,
      "outputs": []
    },
    {
      "cell_type": "markdown",
      "source": [
        "**Ejercicio 6**: Implemente una clase de hash con resolución de colisiones por direccionamiento cerrado."
      ],
      "metadata": {
        "id": "U9EOcE2hQTGg"
      }
    },
    {
      "cell_type": "code",
      "source": [
        "%%file test_hashing_cerrado.py\n",
        "\n",
        "# Código"
      ],
      "metadata": {
        "id": "qjIBZa2-QTGg"
      },
      "execution_count": null,
      "outputs": []
    },
    {
      "cell_type": "code",
      "source": [
        "!python -m pytest"
      ],
      "metadata": {
        "id": "7218A2RFQTGh"
      },
      "execution_count": null,
      "outputs": []
    },
    {
      "cell_type": "markdown",
      "source": [
        "**Ejercicio 7**: Implemente una clase de hash con resolución de colisiones por direccionamiento abierto por doble hash. Elija los hashes como mejor le parezca.\n",
        "\n",
        "*Ayuda: herede de la clase de direccionamiento abierto. En esta clase original, asegúrese de tener un método especial que incrementa el índice para hacer el sondeo lineal. Haga un override de la misma*"
      ],
      "metadata": {
        "id": "tXevzeMsQTGi"
      }
    },
    {
      "cell_type": "code",
      "source": [
        "%%file test_hashing_doble.py\n",
        "\n",
        "# Código"
      ],
      "metadata": {
        "id": "vFE4t6m_QTGi"
      },
      "execution_count": null,
      "outputs": []
    },
    {
      "cell_type": "code",
      "source": [
        "!python -m pytest"
      ],
      "metadata": {
        "id": "-nDQiDeUQTGj"
      },
      "execution_count": null,
      "outputs": []
    },
    {
      "cell_type": "markdown",
      "source": [
        "**Ejercicio 8**: Herede de la clase de direccionamiento abierto, agregando \"dinámica\" en el nombre, y agregue un método que calcule el factor de carga.\n",
        "\n",
        "*Ayuda: si no lo ha hecho antes, será necesario llevar registro del tamaño y la cantidad de elementos, no solamente de la tabla en sí*\n",
        "\n",
        "¿Cómo cree que afecta el factor de carga a la búsqueda en una tabla hash con direccionamiento abierto?\n",
        "\n",
        "Luego haga un *override* al método de inserción para que la inserción no tenga límites.\n",
        "\n",
        "*Ayuda: En cada inserción, chequear el factor de carga. Si es mayor a 0.75, duplicar el tamaño de la tabla hash y rehashear todos sus elementos.*\n",
        "\n",
        "¿Cómo cree que afecta este rehashing al rendimiento? ¿Cuántas veces debemos hacer este trabajo, relativo a la cantidad de elementos que insertamos?"
      ],
      "metadata": {
        "id": "PeG65adOQTGk"
      }
    },
    {
      "cell_type": "code",
      "source": [
        "%%file test_hashing_dinamico.py\n",
        "\n",
        "# Código"
      ],
      "metadata": {
        "id": "BhkrlB82GqPl"
      },
      "execution_count": null,
      "outputs": []
    },
    {
      "cell_type": "code",
      "source": [
        "!python -m pytest"
      ],
      "metadata": {
        "id": "yMbgaRegGqPu"
      },
      "execution_count": null,
      "outputs": []
    },
    {
      "cell_type": "markdown",
      "source": [
        "**Ejercicio 9**: Implemente una clase Persona con información de contacto. En esta clase, implemente el método mágico \\_\\_hash__ y verifique que funciona bien al insertar personas en la clase de hash dinámica del ejercicio anterior. Diseñe tests que prueben el mismo comportamiento tanto para diccionarios de Python como para la clase personalizada."
      ],
      "metadata": {
        "id": "e82-eQqnQTGm"
      }
    },
    {
      "cell_type": "code",
      "source": [
        "%%file test_libro_de_contactos.py\n",
        "\n",
        "# Código"
      ],
      "metadata": {
        "id": "wVESYqSXQTGm"
      },
      "execution_count": null,
      "outputs": []
    },
    {
      "cell_type": "code",
      "source": [
        "!python -m pytest"
      ],
      "metadata": {
        "id": "-Idu7iynQTGn"
      },
      "execution_count": null,
      "outputs": []
    }
  ]
}