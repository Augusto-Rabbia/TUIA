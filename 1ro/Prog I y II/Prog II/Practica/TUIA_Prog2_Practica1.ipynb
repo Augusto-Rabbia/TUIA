{
  "nbformat": 4,
  "nbformat_minor": 0,
  "metadata": {
    "colab": {
      "provenance": [],
      "collapsed_sections": []
    },
    "kernelspec": {
      "name": "python3",
      "display_name": "Python 3"
    },
    "language_info": {
      "name": "python"
    }
  },
  "cells": [
    {
      "cell_type": "markdown",
      "source": [
        "# Práctica 1"
      ],
      "metadata": {
        "id": "42WZXXINVURQ"
      }
    },
    {
      "cell_type": "code",
      "source": [
        "!pip install pytest"
      ],
      "metadata": {
        "id": "mfdgd9G24PbW",
        "outputId": "7b3339f7-27a3-42fe-e77b-273cbe06fe53",
        "colab": {
          "base_uri": "https://localhost:8080/"
        }
      },
      "execution_count": null,
      "outputs": [
        {
          "output_type": "stream",
          "name": "stdout",
          "text": [
            "Looking in indexes: https://pypi.org/simple, https://us-python.pkg.dev/colab-wheels/public/simple/\n",
            "Requirement already satisfied: pytest in /usr/local/lib/python3.7/dist-packages (3.6.4)\n",
            "Requirement already satisfied: setuptools in /usr/local/lib/python3.7/dist-packages (from pytest) (57.4.0)\n",
            "Requirement already satisfied: attrs>=17.4.0 in /usr/local/lib/python3.7/dist-packages (from pytest) (22.1.0)\n",
            "Requirement already satisfied: pluggy<0.8,>=0.5 in /usr/local/lib/python3.7/dist-packages (from pytest) (0.7.1)\n",
            "Requirement already satisfied: atomicwrites>=1.0 in /usr/local/lib/python3.7/dist-packages (from pytest) (1.4.1)\n",
            "Requirement already satisfied: more-itertools>=4.0.0 in /usr/local/lib/python3.7/dist-packages (from pytest) (8.14.0)\n",
            "Requirement already satisfied: six>=1.10.0 in /usr/local/lib/python3.7/dist-packages (from pytest) (1.15.0)\n",
            "Requirement already satisfied: py>=1.5.0 in /usr/local/lib/python3.7/dist-packages (from pytest) (1.11.0)\n"
          ]
        }
      ]
    },
    {
      "cell_type": "markdown",
      "source": [
        "## Tipo abstracto de datos"
      ],
      "metadata": {
        "id": "dKOzQXKcVXbF"
      }
    },
    {
      "cell_type": "markdown",
      "source": [
        "**Ejercicio 1**: Definir la interfaz de un tipo abstracto de datos para representar una celda, capaz de contener un único valor a la vez. Usar lenguaje natural."
      ],
      "metadata": {
        "id": "-HryUhP34al1"
      }
    },
    {
      "cell_type": "markdown",
      "source": [
        "El TAD Celda cuenta con..."
      ],
      "metadata": {
        "id": "tAp38sWQ63ue"
      }
    },
    {
      "cell_type": "markdown",
      "source": [
        "**Ejercicio 2**: Basándose en la interfaz hecha en el ejercicio anterior, implementar en Python una clase Celda que respete el comportamiento descripto. Escribir tests que prueben el correcto funcionamiento de dicha interfaz. *Ayuda: para construir un conjunto pueden pasarle una lista o usar la sintaxis *args y que reciba una cantidad arbitraria de argumentos.*"
      ],
      "metadata": {
        "id": "GujTQSFE6KQL"
      }
    },
    {
      "cell_type": "code",
      "source": [
        "%%file test_celda.py\n",
        "\n",
        "# Código..."
      ],
      "metadata": {
        "id": "rVpk7FEk7FfJ"
      },
      "execution_count": null,
      "outputs": []
    },
    {
      "cell_type": "code",
      "source": [
        "!python -m pytest"
      ],
      "metadata": {
        "id": "QiU4H8PO7IG3"
      },
      "execution_count": null,
      "outputs": []
    },
    {
      "cell_type": "markdown",
      "source": [
        "**Ejercicio 3**: Definir la interfaz de un Conjunto, los conjuntos son los típicos en matemática, donde se definen con elementos preestablecidos, nunca cambian, y podemos preguntarnos si un elemento pertenece o no a un conjunto."
      ],
      "metadata": {
        "id": "EzKhCO6i7NLE"
      }
    },
    {
      "cell_type": "markdown",
      "source": [
        "El TAD Conjunto cuenta con..."
      ],
      "metadata": {
        "id": "4XIK-bIt78V_"
      }
    },
    {
      "cell_type": "markdown",
      "source": [
        "**Ejercicio 4**: Basándose en la interfaz hecha en el ejercicio anterior, implementar en Python una clase Conjunto que respete el comportamiento descrito. Escribir tests que prueben el correcto funcionamiento de dicha interfaz."
      ],
      "metadata": {
        "id": "uBp3-RTZ8Apc"
      }
    },
    {
      "cell_type": "code",
      "source": [
        "%%file test_conjunto.py\n",
        "\n",
        "# Código..."
      ],
      "metadata": {
        "id": "r1p1Hww37-3s"
      },
      "execution_count": null,
      "outputs": []
    },
    {
      "cell_type": "code",
      "source": [
        "!python -m pytest"
      ],
      "metadata": {
        "id": "t3B5-DAy8ZgV"
      },
      "execution_count": null,
      "outputs": []
    },
    {
      "cell_type": "markdown",
      "source": [
        "**Ejercicio 5**: Hacer otra implementación de Conjunto, llamada ConjuntoNativo, que internamente almacene elementos utilizando *set*. Para ello investigue el funcionamiento de dicha estructura en Python. ¿Los tests del ejercicio anterior funcionan para ambas clases? Copie y pegue los tests y vea si pasan."
      ],
      "metadata": {
        "id": "9n66GqW79Fz0"
      }
    },
    {
      "cell_type": "code",
      "source": [
        "%%file test_conjunto_nativo.py\n",
        "\n",
        "# Código..."
      ],
      "metadata": {
        "id": "SLFeehZo-GQr"
      },
      "execution_count": null,
      "outputs": []
    },
    {
      "cell_type": "code",
      "source": [
        "!python -m pytest"
      ],
      "metadata": {
        "id": "Nx44uJ6m-JEr"
      },
      "execution_count": null,
      "outputs": []
    },
    {
      "cell_type": "markdown",
      "source": [
        "**Ejercicio 6**: Rediseñe la implementación de Celda para que siga conteniendo un único elemento por vez, pero se adhiera a la interfaz de Conjunto, o sea que acepte múltiples elementos en su constructor y que podamos preguntar por sus elementos. Llámela CeldaConjunto. ¿Los tests que hizo funcionan para esta implementación incorrecta? Si la respuesta es sí, escriba un test que pase para los conjuntos normales y falle para CeldaConjunto."
      ],
      "metadata": {
        "id": "d6IHpYl8-QXM"
      }
    },
    {
      "cell_type": "code",
      "source": [
        "%%file test_celda_conjunto.py\n",
        "\n",
        "# Código..."
      ],
      "metadata": {
        "id": "x_yzZvfg_DtQ"
      },
      "execution_count": null,
      "outputs": []
    },
    {
      "cell_type": "code",
      "source": [
        "!python -m pytest"
      ],
      "metadata": {
        "id": "6iPesVYT_HLx"
      },
      "execution_count": null,
      "outputs": []
    },
    {
      "cell_type": "markdown",
      "source": [
        "## Lista\n"
      ],
      "metadata": {
        "id": "B479dkEtVazZ"
      }
    },
    {
      "cell_type": "markdown",
      "source": [
        "**Ejercicio 7**: Utilizando la clase Nodo presentada a continuación\n",
        "\n",
        "```python\n",
        "class Nodo:\n",
        "  def __init__(self, valor, siguiente = None):\n",
        "    self.valor = valor\n",
        "    self.siguiente = siguiente\n",
        "```\n",
        "\n",
        "Implemente y verifique usando tests el siguiente TAD Lista Enlazada utilizando composición, una clase ListaEnlazada que contenga a Nodo.\n",
        "* **\\_\\_init__**: crea una lista vacía.\n",
        "* **agregar_principio**: mete un elemento al inicio de la lista.\n",
        "* **agregar_final**: mete un elemento al final de la lista.\n",
        "* **pertenece**: indica si un elemento se encuentra en la lista o no.\n",
        "* **imprimir**: imprime la lista en un formato agradable en consola.\n",
        "* **quitar_principio**: quita el elemento al inicio de la lista.\n",
        "* **quitar_final**: quita el elemento al final de la lista.\n",
        "* **concatenar**: dada otra Lista Enlazada, la ubica al final de la primera, resultando una única lista."
      ],
      "metadata": {
        "id": "g4T-Q2fWBNw9"
      }
    },
    {
      "cell_type": "code",
      "source": [
        "%%file test_lista_enlazada.py\n",
        "\n",
        "# Código..."
      ],
      "metadata": {
        "id": "24sZKvtlI-l5"
      },
      "execution_count": null,
      "outputs": []
    },
    {
      "cell_type": "code",
      "source": [
        "!python -m pytest"
      ],
      "metadata": {
        "id": "2gOPS-0WJBiH"
      },
      "execution_count": null,
      "outputs": []
    },
    {
      "cell_type": "markdown",
      "source": [
        "**Ejercicio 8**: Modifique el ejercicio anterior para que pertenece e imprimir sean métodos recursivos en Nodo y la clase ListaEnlazada simplemente llame a estos. Compruebe que los tests sigan funcionando. ¿Se le ocurren otros métodos en donde podríamos hacer lo mismo?"
      ],
      "metadata": {
        "id": "ixAH9eGPFv1k"
      }
    },
    {
      "cell_type": "code",
      "source": [
        "%%file test_lista_enlazada_recursiva.py\n",
        "\n",
        "# Código..."
      ],
      "metadata": {
        "id": "scMarVfLJE43"
      },
      "execution_count": null,
      "outputs": []
    },
    {
      "cell_type": "code",
      "source": [
        "!python -m pytest"
      ],
      "metadata": {
        "id": "IuTXzoPxJG3R"
      },
      "execution_count": null,
      "outputs": []
    },
    {
      "cell_type": "markdown",
      "source": [
        "**Ejercicio 9**: Implemente una clase ListaNativa que respete el TAD anterior, y que internamente utilice lista nativas de Python."
      ],
      "metadata": {
        "id": "57Afqoz2JZ1F"
      }
    },
    {
      "cell_type": "code",
      "source": [
        "%%file test_lista_nativa.py\n",
        "\n",
        "# Código..."
      ],
      "metadata": {
        "id": "LQB94eTWJkem"
      },
      "execution_count": null,
      "outputs": []
    },
    {
      "cell_type": "code",
      "source": [
        "!python -m pytest"
      ],
      "metadata": {
        "id": "D5PpqkMHJlOM"
      },
      "execution_count": null,
      "outputs": []
    },
    {
      "cell_type": "markdown",
      "source": [
        "## Pila"
      ],
      "metadata": {
        "id": "hPC6i9MpVbx8"
      }
    },
    {
      "cell_type": "markdown",
      "source": [
        "**Ejercicio 10**: Basándose en el TAD de pila, implementar una clase Stack con listas de Python"
      ],
      "metadata": {
        "id": "UPeWu477KEzv"
      }
    },
    {
      "cell_type": "code",
      "source": [
        "%%file test_stack.py\n",
        "\n",
        "# Código..."
      ],
      "metadata": {
        "id": "w1izAo0OKEzz"
      },
      "execution_count": null,
      "outputs": []
    },
    {
      "cell_type": "code",
      "source": [
        "!python -m pytest"
      ],
      "metadata": {
        "id": "T7x1_5ANKEz0"
      },
      "execution_count": null,
      "outputs": []
    },
    {
      "cell_type": "markdown",
      "source": [
        "**Ejercicio 11**: Dado un Stack, volcar su contenido en otro Stack, verificar que al vaciar el contenido de este, los elementos salen en el mismo orden en que ingresaron al primero. Utilizar solamente los métodos del TAD pila para resolver."
      ],
      "metadata": {
        "id": "Sq8igdNsKXop"
      }
    },
    {
      "cell_type": "code",
      "source": [
        "%%file test_volcar_stack.py\n",
        "\n",
        "# Código..."
      ],
      "metadata": {
        "id": "XArq1WGSKXow"
      },
      "execution_count": null,
      "outputs": []
    },
    {
      "cell_type": "code",
      "source": [
        "!python -m pytest"
      ],
      "metadata": {
        "id": "PySvyM4QKXow"
      },
      "execution_count": null,
      "outputs": []
    },
    {
      "cell_type": "markdown",
      "source": [
        "**Ejercicio 12**: Dado un Stack de números, reordenarlos para que estén abajo los impares y arriba los pares, pero que entre números del mismo tipo preserven el orden. *Ayuda: utilizar dos Stacks auxiliares de números pares e impares respectivamente*.\n",
        "\n",
        "Ejemplo:\n",
        "```\n",
        "4      4\n",
        "3  =>  2\n",
        "2      3\n",
        "1      1\n",
        "```"
      ],
      "metadata": {
        "id": "EZFrgr0iLM31"
      }
    },
    {
      "cell_type": "code",
      "source": [
        "%%file test_reordenar_stack.py\n",
        "\n",
        "# Código..."
      ],
      "metadata": {
        "id": "YQfZ8QmoLM36"
      },
      "execution_count": null,
      "outputs": []
    },
    {
      "cell_type": "code",
      "source": [
        "!python -m pytest"
      ],
      "metadata": {
        "id": "6WeBs2QaLM38"
      },
      "execution_count": null,
      "outputs": []
    },
    {
      "cell_type": "markdown",
      "source": [
        "**Ejercicio 13**: Construir un Stack con números y 4 operaciones representadas por los strings de sus símbolos\n",
        "\n",
        "* suma +\n",
        "* resta -\n",
        "* multiplicación *\n",
        "* división /\n",
        "\n",
        "Se les dará como entrada una secuencia de números y operaciones en notación *posfija* y usarán el Stack para evaluarla.\n",
        "\n",
        "La notación posfija tiene las operaciones a la derecha de los operandos, cuando nosotros normalmente las tenemos al medio, llamada notación *infija*. La ventaja de esta notación es que los paréntesis son innecesarios! Hay múltiples formas de evaluar una expresión posfija usando Stack, iterativas y recursivas. Pensar una solución cualquiera.\n",
        "```\n",
        "(1 + 2) * (3 - 4) # infija\n",
        "1 2 + 3 4 - * # posfija\n",
        "```"
      ],
      "metadata": {
        "id": "G-rZeERoMf3Y"
      }
    },
    {
      "cell_type": "code",
      "source": [
        "%%file test_postfix.py\n",
        "\n",
        "# Código..."
      ],
      "metadata": {
        "id": "J7wtZjncMf3Z"
      },
      "execution_count": null,
      "outputs": []
    },
    {
      "cell_type": "code",
      "source": [
        "!python -m pytest"
      ],
      "metadata": {
        "id": "YSAXbwR2Mf3Z"
      },
      "execution_count": null,
      "outputs": []
    },
    {
      "cell_type": "markdown",
      "source": [
        "**Ejercicio 14**: Verificar si una expresión tiene paréntesis válidos, es decir, no hay paréntesis sin cerrar en la expresión.\n",
        "\n",
        "***Adicional***: Extienda la implementación para verificar también corchetes y llaves.\n",
        "\n",
        "Ejemplos:\n",
        "\n",
        "`verificar_parentesis(\"((a+b))\") => True \\\n",
        "verificar_parentesis(\"(((3*x)\") => False`"
      ],
      "metadata": {
        "id": "32rrcL6yoEio"
      }
    },
    {
      "cell_type": "code",
      "source": [
        "%%file test_verificar_parentesis.py\n",
        "\n",
        "# Código"
      ],
      "metadata": {
        "id": "vY1wDTXipq7Q"
      },
      "execution_count": null,
      "outputs": []
    },
    {
      "cell_type": "markdown",
      "source": [
        "## Cola"
      ],
      "metadata": {
        "id": "6xk74TCJVc_A"
      }
    },
    {
      "cell_type": "markdown",
      "source": [
        "**Ejercicio 15**: Basándose en el TAD de cola, implementar una clase Queue con listas de Python."
      ],
      "metadata": {
        "id": "xepEZbyzUO1P"
      }
    },
    {
      "cell_type": "code",
      "source": [
        "%%file test_queue.py\n",
        "\n",
        "# Código..."
      ],
      "metadata": {
        "id": "UpRPH6KlUO1R"
      },
      "execution_count": null,
      "outputs": []
    },
    {
      "cell_type": "code",
      "source": [
        "!python -m pytest"
      ],
      "metadata": {
        "id": "9eK_tbG1UO1S"
      },
      "execution_count": null,
      "outputs": []
    },
    {
      "cell_type": "markdown",
      "source": [
        "**Ejercicio 16**: Implementar FastQueue, una cola que internamente utiliza dos stacks de la siguiente manera:\n",
        "* Inserta por uno de los stacks\n",
        "* Remueve por el otro stack\n",
        "* Cuando queremos remover de stack vacío, primero volcamos el stack de inserción en este y seguimos normalmente\n",
        "Verificar que esta cola se comporta como tal usando tests."
      ],
      "metadata": {
        "id": "cmDPQ5ruUO1T"
      }
    },
    {
      "cell_type": "code",
      "source": [
        "%%file test_fast_queue.py\n",
        "\n",
        "# Código..."
      ],
      "metadata": {
        "id": "i7T1JaF4UO1T"
      },
      "execution_count": null,
      "outputs": []
    },
    {
      "cell_type": "code",
      "source": [
        "!python -m pytest"
      ],
      "metadata": {
        "id": "IQwEA-YlUO1U"
      },
      "execution_count": null,
      "outputs": []
    },
    {
      "cell_type": "markdown",
      "source": [
        "**Ejercicio 17**: Implemente una PriorityQueue, una cola que, si bien tiene la misma interfaz que las colas normales, no se comporta de la misma manera. En este caso, estarán primeros los elementos con *mayor prioridad*, la mayor prioridad puede ser lo que sea, pero con números sería típicamente los números más pequeños o más grandes. Verifique que los tests de cola **no pasan** para la PriorityQueue, y si lo hacen, escriba un test que pase para colas normales y no para esta.\n",
        "\n",
        "Ejemplo: Metemos 5, 2, 6, 1. Sacamos 1, 2, 5, 6"
      ],
      "metadata": {
        "id": "ZIEVYUEzUO1U"
      }
    },
    {
      "cell_type": "code",
      "source": [
        "%%file test_priority_queue.py\n",
        "\n",
        "# Código..."
      ],
      "metadata": {
        "id": "OzN7PmFlUO1U"
      },
      "execution_count": null,
      "outputs": []
    },
    {
      "cell_type": "code",
      "source": [
        "!python -m pytest"
      ],
      "metadata": {
        "id": "9JQiZfJ4UO1V"
      },
      "execution_count": null,
      "outputs": []
    },
    {
      "cell_type": "markdown",
      "source": [
        "**Ejercicio 18**: Se tiene una cola del supermercado. Cada cliente tiene un carrito con los productos apilados, por lo que al ponerlos en la cinta salen el orden inverso en el que fueron puestos en el mismo.\n",
        "\n",
        "Dada una cola de carritos con productos, modele el problema con las estructuras vistas hasta ahora y escriba una clase Cinta que contenga una cola de carritos y tenga un método *historial* que muestre todos los productos que la lectora vería en el orden descrito."
      ],
      "metadata": {
        "id": "TGnFq9g4UO1V"
      }
    },
    {
      "cell_type": "code",
      "source": [
        "%%file test_supermarket.py\n",
        "\n",
        "# Código..."
      ],
      "metadata": {
        "id": "LZgaBXe8UO1W"
      },
      "execution_count": null,
      "outputs": []
    },
    {
      "cell_type": "code",
      "source": [
        "!python -m pytest"
      ],
      "metadata": {
        "id": "Q9tLonFGUO1W"
      },
      "execution_count": null,
      "outputs": []
    },
    {
      "cell_type": "markdown",
      "source": [
        "##Árboles binarios"
      ],
      "metadata": {
        "id": "KSxMmelYVer0"
      }
    },
    {
      "cell_type": "markdown",
      "source": [
        "**Ejercicio 19**: Utilizando la clase Tree presentada a continuación\n",
        "\n",
        "```python\n",
        "class Tree:\n",
        "  def __init__(self, value, left = None, right = None):\n",
        "    self.value = value\n",
        "    self.left = left\n",
        "    self.right = right\n",
        "```\n",
        "\n",
        "Implemente y verifique usando tests los siguientes métodos. *Ayuda: pensar que cada árbol tiene a su izquierda y derecha objetos árboles como sus hijos*.\n",
        "* **nodos**: devuelve la cantidad de nodos del árbol\n",
        "* **menor_mayor**: devuelve en una tupla el menor y el mayor elemento del árbol\n",
        "* **buscar**: busca si un elemento está o no en el árbol\n",
        "* **altura**: calcula la altura del árbol, la distancia desde la raíz hasta la hoja más lejana"
      ],
      "metadata": {
        "id": "ZUlsgVAEhPOz"
      }
    },
    {
      "cell_type": "code",
      "source": [
        "%%file test_tree_methods.py\n",
        "\n",
        "# Código..."
      ],
      "metadata": {
        "id": "IEI_-fNMhPPG"
      },
      "execution_count": null,
      "outputs": []
    },
    {
      "cell_type": "code",
      "source": [
        "!python -m pytest"
      ],
      "metadata": {
        "id": "-3LRvDrYhPPG"
      },
      "execution_count": null,
      "outputs": []
    },
    {
      "cell_type": "markdown",
      "source": [
        "**Ejercicio 20**: Implementar recorridos *preorden*, *inorden* y *postorden*."
      ],
      "metadata": {
        "id": "boWybkv6hPPG"
      }
    },
    {
      "cell_type": "code",
      "source": [
        "%%file test_tree_walks.py\n",
        "\n",
        "# Código..."
      ],
      "metadata": {
        "id": "0ZqUyj4FhPPG"
      },
      "execution_count": null,
      "outputs": []
    },
    {
      "cell_type": "code",
      "source": [
        "!python -m pytest"
      ],
      "metadata": {
        "id": "S2gX-jHyhPPH"
      },
      "execution_count": null,
      "outputs": []
    },
    {
      "cell_type": "markdown",
      "source": [
        "**Ejercicio 21**: Antes mencionamos cómo utilizamos notación postfija de expresiones para evaluar en un Stack y sin usar paréntesis. Con árboles podemos representar expresiones infijas sin paréntesis. Cada nodo interno del árbol representa un operador, izquierda y derecha son subexpresiones, y las hojas son números. Implementar una clase Expression que herede de Tree, un árbol de expresiones infijas, con dos métodos.\n",
        "\n",
        "* **imprimir**: que imprime la expresión de forma infija con paréntesis.\n",
        "* **evaluar**: evalúa todo el árbol y lo reduce a un número.\n",
        "\n",
        "Ejemplo\n",
        "```\n",
        "     *\n",
        "   /   \\\n",
        "  +     -     ==>   ((1 + 2) * (3 - 4))   ==>   -2\n",
        " / \\   / \\\n",
        "1   2 3   4\n",
        "```"
      ],
      "metadata": {
        "id": "iyjalnPnhPPH"
      }
    },
    {
      "cell_type": "code",
      "source": [
        "%%file test_expression.py\n",
        "\n",
        "# Código..."
      ],
      "metadata": {
        "id": "BbQJzB43hPPH"
      },
      "execution_count": null,
      "outputs": []
    },
    {
      "cell_type": "code",
      "source": [
        "!python -m pytest"
      ],
      "metadata": {
        "id": "Rl029xZQhPPH"
      },
      "execution_count": null,
      "outputs": []
    },
    {
      "cell_type": "markdown",
      "source": [
        "##Árboles Binarios de Búsqueda"
      ],
      "metadata": {
        "id": "vKpca6UAaDyp"
      }
    },
    {
      "cell_type": "markdown",
      "source": [
        "**Ejercicio 22**: Utilizando la misma clase Tree de la sección anterior, implemente otra clase llamada BSTree que herede de esta, reimplemente los métodos **menor_mayor**, **buscar** e implemente un nuevo método llamado **insertar** que inserte un elemento."
      ],
      "metadata": {
        "id": "jcHTBLBdaDy7"
      }
    },
    {
      "cell_type": "code",
      "source": [
        "%%file test_binary_search_tree.py\n",
        "\n",
        "# Código..."
      ],
      "metadata": {
        "id": "ZlRN5ZT_aDy8"
      },
      "execution_count": null,
      "outputs": []
    },
    {
      "cell_type": "code",
      "source": [
        "!python -m pytest"
      ],
      "metadata": {
        "id": "pUU4K9c1aDy8"
      },
      "execution_count": null,
      "outputs": []
    },
    {
      "cell_type": "markdown",
      "source": [
        "**Ejercicio 23**: Haga un test donde inserte los números del 1 al 100000 en orden creciente y luego los busque a todos. Luego haga otro, donde se inserten en orden aleatorio y luego los busque a todos. ¿Cuál de estos tests cree que será más rápido? ¿Por qué?"
      ],
      "metadata": {
        "id": "9hVIrj-FaDy8"
      }
    },
    {
      "cell_type": "code",
      "source": [
        "%%file test_list_degeneration.py\n",
        "\n",
        "# Código..."
      ],
      "metadata": {
        "id": "acHlNY23aDy8"
      },
      "execution_count": null,
      "outputs": []
    },
    {
      "cell_type": "code",
      "source": [
        "!python -m pytest"
      ],
      "metadata": {
        "id": "4EUKO66FaDy8"
      },
      "execution_count": null,
      "outputs": []
    },
    {
      "cell_type": "markdown",
      "source": [
        "**Ejercicio 24**: Invente un método para borrar el nodo raíz de un árbol binario de búsqueda, de forma tal que el resultado sea un árbol binario de búsqueda válido. *Ayuda: piense primero en un método que combine dos árboles binarios de búsqueda. Tener en cuenta además que el resultado de borrar la raíz NO ES el nodo del árbol sobre el cuál estamos llamando al método, debería ser otro, así que este método retorna la nueva raíz del árbol.*"
      ],
      "metadata": {
        "id": "WPJxhCb7aDy8"
      }
    },
    {
      "cell_type": "code",
      "source": [
        "%%file test_remove_root.py\n",
        "\n",
        "# Código..."
      ],
      "metadata": {
        "id": "f0JulFuHaDy8"
      },
      "execution_count": null,
      "outputs": []
    },
    {
      "cell_type": "code",
      "source": [
        "!python -m pytest"
      ],
      "metadata": {
        "id": "csL3Cd-KaDy9"
      },
      "execution_count": null,
      "outputs": []
    },
    {
      "cell_type": "markdown",
      "source": [
        "**Ejercicio 25**: Herede de BSTree una clase Diccionario, cuyos valores sean tuplas (clave, valor). Reimplemente los métodos **buscar** e **insertar** para que acepten estas tuplas, guarden de acuerdo a sus claves que son strings, y busquen el valor asociado a la clave pasada como argumento, como un diccionario.\n",
        "\n",
        "**Extra**: implementar borrar por clave, que borre un nodo arbitrario del árbol si encuentra uno con esa clave."
      ],
      "metadata": {
        "id": "e6jlYaqal6-J"
      }
    },
    {
      "cell_type": "code",
      "source": [
        "%%file test_map.py\n",
        "\n",
        "# Código..."
      ],
      "metadata": {
        "id": "M_AlHWtJl6-K"
      },
      "execution_count": null,
      "outputs": []
    },
    {
      "cell_type": "code",
      "source": [
        "!python -m pytest"
      ],
      "metadata": {
        "id": "fXqPnTcYl6-M"
      },
      "execution_count": null,
      "outputs": []
    }
  ]
}