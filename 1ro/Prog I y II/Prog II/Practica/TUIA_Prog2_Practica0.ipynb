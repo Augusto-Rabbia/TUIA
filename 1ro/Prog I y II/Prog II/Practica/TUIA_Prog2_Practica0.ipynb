{
  "cells": [
    {
      "cell_type": "markdown",
      "metadata": {
        "id": "j3sTF5h-XSAK"
      },
      "source": [
        "# TUIA 2022 - Práctica 0\n",
        "\n"
      ]
    },
    {
      "cell_type": "markdown",
      "metadata": {
        "id": "fqqZSo3CVoLv"
      },
      "source": [
        "## Introducción a Jupyter Notebooks/Google Colab\n"
      ]
    },
    {
      "cell_type": "markdown",
      "metadata": {
        "id": "BVLKXC8RV1T1"
      },
      "source": [
        "Los Jupyter Notebooks pueden ser considerados documentos donde se puede escribir tanto texto como código. Los Jupyter Notebooks soportan múltiples lenguajes de programación, incluidos Python, R, Julia y Matlab, los más utilizados en análisis de datos y computación científica.\n",
        "\n",
        "Los Jupyter Notebooks pueden ser abiertos desde el navegador de la PC (Chrome, Firefox, Edge o cualquier otro).\n",
        "\n",
        "Se puede instalar un entorno local para trabajar con Jupyter Notebooks mediante la [distribución Anaconda](https://www.anaconda.com/products/distribution) de Python. Esta distribución de Python es gratuita, open-source y fácil de usar. Es además multiplataforma, podemos usarla en Mac, Windows o Linux indistintamente. Esta pensada para ser usada por científicos de datos, y por ello, trae incluidos muchos paquetes para trabajar en modelos de aprendizaje automatizado.\n",
        "\n",
        "Si ya tenemos un entorno local de Python funcionando y solo queremos agregar la posibilidad de utilizar Jupyter Notebooks, sin instalar todo el ecosistema de nuevo, podemos hacerlo directamente a través de la [página oficial de Jupyter Notebooks](https://jupyter.org/install).\n",
        "\n",
        "Sin embargo lo más cómodo (y lo recomendado para este curso) es utilizar Google Colab. Google Colab es una herramienta muy similar a Jupyter Notebooks, pero no requiere ningún tipo de instalación ya que esta completamente alojado en la nube de Google. Se puede utilizar en conjunto con Google Drive, almacenando los notebooks que escribamos como cualquier otro tipo de documento. Además, esto permite compartir y editar colaborativamente los notebooks. Al igual que la instalación con Anaconda, ya trae incluidos muchos paquetes estándar para el desarrollo de programas orientados al análisis de datos.\n",
        "\n",
        "Tanto en Jupyter Notebooks como en Google Colab, los documentos están compuestos por una serie de *celdas* (del inglés *cells*). Hay celdas de dos tipos, de texto y de código.\n",
        "\n",
        "Una celda de texto (como esta que estas leyendo ahora) contiene texto en [formato Markdown](https://markdown.es/). Esto permite escribir texto enriquecido con algunos formatos y enlaces de forma muy simple. Una guía para empezar a escribir en este formato puede ser encontrada en [esta página](https://markdown.es/sintaxis-markdown/). Adicionalmente, tenemos soporte para LaTeX para escribir ecuaciones matemáticas.\n",
        "\n",
        "Las celdas de código contiene instrucciones para la computadora, sea el código Python propiamente dicho u otras instrucciones auxiliares. Veamos nuestra primera celda de código:"
      ]
    },
    {
      "cell_type": "code",
      "execution_count": null,
      "metadata": {
        "id": "OyQwuqB5V0LY"
      },
      "outputs": [],
      "source": [
        "print(\"Hola mundo!\")"
      ]
    },
    {
      "cell_type": "markdown",
      "metadata": {
        "id": "gs8qxu4ejfaa"
      },
      "source": [
        "Notarás que la celda de código tiene un ícono triangular a su izquierda (recordando al ícono \"play\" de un equipo de música). Al hacer clic en este ícono se correran las instrucciones que haya en la celda (puede ser más de una) y Jupyter Notebooks/Google Colab nos mostrara el resultado debajo. Luego de eso, el ícono cambia a un número que nos irá mostrando el orden en el que corrimos las diferentes celdas. Si acercamos el mouse a este número recuperamos el ícono triangular que nos permitirá volver a correr una celda.\n",
        "\n",
        "\n",
        "---\n",
        "\n",
        "\n"
      ]
    },
    {
      "cell_type": "markdown",
      "metadata": {
        "id": "svFLCJiR_Vcc"
      },
      "source": [
        "## Introducción al testing de software con pytest\n",
        "\n",
        "El uso de Python se esta incrementando no solo en el desarrollo de software tradicional, sino tambien en campos como análisis de datos, investigación científica, pruebas de usuario y mediciones, y muchas otras industrias. El crecimiento de Python en muchos campos críticos viene también con el deseo lograr pruebas más efectivas y más eficientes para asegurar que los programas corren de forma correcta y producen resultados correctos. En adición, más y más proyectos de software están incluyendo una fase de testing automatizado como parte del proceso de lanzamiento de nuevas versiones de un proyecto de software. Así los tests dejan de ser meras entidades secundarias y se ponen en el papel principal: son los que deciden si se confía en una nueva versión del software o no.\n",
        "\n",
        "`pytest` es una herramienta robusta para realizar testing con Python. Ha reemplazado a herramientas más antiguas como `unittest` o `nose` como la herramienta por defecto para realizar testing con Python. Algunas organizaciones que utilizan `pytest` incluyen Mozilla (desarrolladores del navegador Firefox) y Dropbox (desarrolladora de un popular servicio de almacenamiento en línea). Algunas de las ventajas que ofrece son:\n",
        "\n",
        "- Los tests escritos con esta herramienta suelen ser más sencillos de leer y escribir.\n",
        "- Es compatible con sus predecesoras, `unittest` y `nose`.\n",
        "- Es una herramienta extensible, existen decenas de *plugins* que pueden utilizarse para extender las capacidades de la herramienta.\n",
        "- Todo-en-uno: Descubre cuáles son las pruebas, las corre y reporta los resultados.\n",
        "\n",
        "\n"
      ]
    },
    {
      "cell_type": "markdown",
      "metadata": {
        "id": "TvoEXzScDpS7"
      },
      "source": [
        "## Estrategias de testing\n",
        "\n",
        "Existen diferentes estrategias de testing:\n",
        "\n",
        "- Testing de unidad o unitario (*unit-testing*): Un caso de prueba que chequea una pequeña porción de código, como una función o una clase, de manera aislada al resto del sistema. \n",
        "- Testing de integración: Un caso de prueba que comprueba el funcionamiento de una porción de código más extensa, quizás varias clases o un submódulo. Es un lugar intermedio entre un test de unidad y un test de sistema.\n",
        "- Testing de sistema o testing punta a punta (*testing end-to-end*): Un caso de prueba que comprueba que todo el sistema bajo prueba funcione en un ambiente tan cerrado como sea posible.\n",
        "\n",
        "Si bien `pytest` es util para todas las estrategias, nos concentraremos en los tests unitarios.\n",
        "\n",
        "Contrariamente al pensamiento popular, escribir tests es mucho más sencillo que escribir código de funcionalidad. Es por ello mismo que resulta recomendable escribir el test primero, en un enfoque conocido como Desarrollo guiado por la prueba primero (o *test-driven development*, o *TDD* en inglés)."
      ]
    },
    {
      "cell_type": "markdown",
      "metadata": {
        "id": "jgkXWXjqF6RL"
      },
      "source": [
        "## Comenzando con `pytest`\n",
        "\n",
        "Para agregar la librería `pytest` a un Jupyter Notebook/Google Colab, es necesario correr la siguiente línea para instalarlo (Importante: realizar esto por cada JN/GC que querramos usar!). \n",
        "\n",
        "**Nota**: Si estás utilizando otro tipo de entorno para Python, podés buscar información en la [página oficial de `pytest`](https://docs.pytest.org/en/7.1.x/). "
      ]
    },
    {
      "cell_type": "code",
      "execution_count": null,
      "metadata": {
        "id": "KAcpsyUSF5pN"
      },
      "outputs": [],
      "source": [
        "!pip install pytest"
      ]
    },
    {
      "cell_type": "markdown",
      "metadata": {
        "id": "2X_QwmqwGfs7"
      },
      "source": [
        "Para escribir un conjunto de funcionalidades y testing seguiremos el siguiente patrón. Utilizaremos como ejemplo una función sencilla que suma dos números."
      ]
    },
    {
      "cell_type": "code",
      "execution_count": null,
      "metadata": {
        "id": "AyWFJhyRGdR6"
      },
      "outputs": [],
      "source": [
        "%%file test_add.py\n",
        "def add(x, y):\n",
        "  return x + y\n",
        "\n",
        "def test_add():\n",
        "  assert add(0, 0) == 0\n",
        "  assert add(0, 1) == 1\n",
        "  assert add(1, 1) == 2"
      ]
    },
    {
      "cell_type": "markdown",
      "metadata": {
        "id": "8h2JmglVHWuA"
      },
      "source": [
        "Algunas partes importantes:\n",
        "\n",
        "* El encabezado `%%file test_add.py` no es una instrucción de Python, si no una sintaxis especial utilizada por JN/GC para indicar que queremos guardar el contenido de esta celda en un archivo. Es importante que el archivo comience con `test_` y termine en `.py` para que `pytest` pueda reconocer que se trata de un archivo con casos de prueba.\n",
        "* En pytest cada caso de prueba es una función. Para distinguir las funciones que son casos de prueba de aquellas que implementan funcionalidad, también necesitamos que el nombre de la función comience con `test_`.\n",
        "* Dentro de un caso de prueba, utilizamos la palabra reservada `assert` para comprobar que la función, con determinados argumentos de prueba, devuelven el resultado esperado.\n",
        "\n",
        "Veamos ahora como utilizar pytest."
      ]
    },
    {
      "cell_type": "code",
      "execution_count": null,
      "metadata": {
        "id": "fGUpo8PLHUc8"
      },
      "outputs": [],
      "source": [
        "!python -m pytest"
      ]
    },
    {
      "cell_type": "markdown",
      "metadata": {
        "id": "rBDrF1aAIX2h"
      },
      "source": [
        "El puntito al lado de `test_add.py` quiere decir que el test corrió con éxito. Agreguemos a propósito un caso de prueba malo para ver que nos dice `pytest` en este caso."
      ]
    },
    {
      "cell_type": "code",
      "execution_count": null,
      "metadata": {
        "id": "LubVGtDuIsOg"
      },
      "outputs": [],
      "source": [
        "%%file test_add.py\n",
        "def add(x, y):\n",
        "  return x + y\n",
        "\n",
        "def test_add():\n",
        "  assert add(0, 0) == 0\n",
        "  assert add(0, 1) == 1\n",
        "  assert add(1, 1) == 2\n",
        "\n",
        "def test_add_bad_case():\n",
        "  assert add(1, 1) == 1"
      ]
    },
    {
      "cell_type": "code",
      "execution_count": null,
      "metadata": {
        "id": "hE5zMuSDIztZ"
      },
      "outputs": [],
      "source": [
        "!python -m pytest"
      ]
    },
    {
      "cell_type": "markdown",
      "metadata": {
        "id": "14Z35SSMI4o_"
      },
      "source": [
        "Notemos que ahora al lado de `test_add.py` tenemos un punto (por el caso de prueba que corrió bien) y al lado una F. La F es por la palabra en inglés *FAILED* (fallido, erróneo), que indica que en algún caso de prueba no se obtuvo el resultado que esperábamos. Más abajo, `pytest` imprime un detalle de los errores, incluyendo el valor real calculado para el caso de prueba.\n",
        "\n",
        "Habiendo aprendido esto, quitemos este test erróneo para que no moleste más adelante.\n"
      ]
    },
    {
      "cell_type": "code",
      "execution_count": null,
      "metadata": {
        "id": "8D7gDL2iLFwY"
      },
      "outputs": [],
      "source": [
        "%%file test_add.py\n",
        "def add(x, y):\n",
        "  return x + y\n",
        "\n",
        "def test_add():\n",
        "  assert add(0, 0) == 0\n",
        "  assert add(0, 1) == 1\n",
        "  assert add(1, 1) == 2"
      ]
    },
    {
      "cell_type": "markdown",
      "metadata": {
        "id": "j83uJugFVxHm"
      },
      "source": [
        "## Programación Orientada a Objetos con Python"
      ]
    },
    {
      "cell_type": "markdown",
      "metadata": {
        "id": "_HipFk96Vl-l"
      },
      "source": [
        "Realizar un pequeño proyecto para representar mediante clases y objetos juegos con un mazo de carta españolas, como la casita robada, la escoba de 15, el chinchón o el truco argentino. Recordar escribir en cada ejercicio los casos de prueba que correspondan.\n",
        "\n",
        "Conocimiento de base: Un mazo de cartas españolas trae 50 cartas. Estas están clasificadas según su _palo_, que puede ser Bastos, Espadas, Copas u Oros. Hay 12 cartas de cada tipo, numeradas correspondientemente. Es común llamar Sota a la carta con el número 10, Caballo a la carta con el número 11, Rey a la carta con el número 12 y As a la carta con el número 1. El mazo de cartas españolas se completa con dos comodines. \n",
        "\n",
        "**Ejercicio 1**: Definir una clase Carta que contenga todos los atributos necesarios para describir las cartas españolas."
      ]
    },
    {
      "cell_type": "code",
      "execution_count": null,
      "metadata": {
        "id": "k5HiDX3OXK9F"
      },
      "outputs": [],
      "source": [
        "%%file test_carta.py\n",
        "\n",
        "# Escribí tu código acá"
      ]
    },
    {
      "cell_type": "code",
      "execution_count": null,
      "metadata": {
        "id": "Itx3bdurMVeq"
      },
      "outputs": [],
      "source": [
        "!python -m pytest "
      ]
    },
    {
      "cell_type": "markdown",
      "metadata": {
        "id": "WtElgLpHY6oz"
      },
      "source": [
        "**Ejercicio 2**: Instanciar objetos que representen el As de espadas, un comodín, el 3 de copas y el Rey de bastos"
      ]
    },
    {
      "cell_type": "code",
      "execution_count": null,
      "metadata": {
        "id": "OkoXNy9sL3mD"
      },
      "outputs": [],
      "source": [
        "# escribí tu código acá "
      ]
    },
    {
      "cell_type": "markdown",
      "metadata": {
        "id": "f_BNcaksacdM"
      },
      "source": [
        "**Ejercicio 3**: Definir un método que nos permita imprimir las cartas como lo haríamos naturalmente. Ejemplo: 5 de Basto."
      ]
    },
    {
      "cell_type": "code",
      "execution_count": null,
      "metadata": {
        "id": "1YOEW6o2Zda2"
      },
      "outputs": [],
      "source": [
        "%%file test_carta.py\n",
        "\n",
        "# escribí tu código acá\n",
        "# No olvides copiar lo que resolviste en el punto anterior!\n"
      ]
    },
    {
      "cell_type": "code",
      "execution_count": null,
      "metadata": {
        "id": "jUrQCYoAMdP6"
      },
      "outputs": [],
      "source": [
        "!python -m pytest"
      ]
    },
    {
      "cell_type": "markdown",
      "metadata": {
        "id": "1lthhz-4bTGh"
      },
      "source": [
        "**Ejercicio 4**: Escribir un método que nos permita comparar cartas por igualdad (mismo número y palo)."
      ]
    },
    {
      "cell_type": "code",
      "execution_count": null,
      "metadata": {
        "id": "cIW8WM6ObYhY"
      },
      "outputs": [],
      "source": [
        "%%file test_carta.py\n",
        "\n",
        "# escribí tu código acá\n",
        "# No olvides copiar lo que resolviste en el punto anterior!\n"
      ]
    },
    {
      "cell_type": "code",
      "execution_count": null,
      "metadata": {
        "id": "4MkdXfEWM77D"
      },
      "outputs": [],
      "source": [
        "!python -m pytest"
      ]
    },
    {
      "cell_type": "markdown",
      "metadata": {
        "id": "7NlRlvLtb8xE"
      },
      "source": [
        "**Ejercicio 5**: Escribir una clase Mazo, que construya el mazo de cartas españolas. Escribir un método que devuelve cuántas cartas hay en el mazo."
      ]
    },
    {
      "cell_type": "code",
      "execution_count": null,
      "metadata": {
        "id": "-dyUFtoPZgEK"
      },
      "outputs": [],
      "source": [
        "%%file test_mazo.py\n",
        "\n",
        "from test_carta import Carta # Importamos carta\n",
        "# escribí tu código acá\n"
      ]
    },
    {
      "cell_type": "code",
      "execution_count": null,
      "metadata": {
        "id": "xGX11JypNTKi"
      },
      "outputs": [],
      "source": [
        "!python -m pytest"
      ]
    },
    {
      "cell_type": "markdown",
      "metadata": {
        "id": "d7qIHM8Ycyek"
      },
      "source": [
        "**Ejercicio 6**: Escribir un método en la clase Mazo que *mezcle* el mazo. Puede ser de utilidad el módulo [`random`](https://docs.python.org/3/library/random.html) de la biblioteca estándar de Python."
      ]
    },
    {
      "cell_type": "code",
      "execution_count": null,
      "metadata": {
        "id": "ic6ZudeEdRsO"
      },
      "outputs": [],
      "source": [
        "%%file test_mazo.py\n",
        "\n",
        "import random\n",
        "from test_carta import Carta # Importamos carta\n",
        "# escribí tu código acá\n",
        "# No olvides copiar lo que resolviste en el punto anterior!"
      ]
    },
    {
      "cell_type": "markdown",
      "metadata": {
        "id": "uadyoUmidPTU"
      },
      "source": [
        "**Ejercicio 7**: Implementar en la clase Mazo, un método que permita sacar una carta específica del mazo, y que devuelva `True` si la carta estaba presente o `False` si no lo estaba."
      ]
    },
    {
      "cell_type": "code",
      "execution_count": null,
      "metadata": {
        "id": "1leDuElZd-KI"
      },
      "outputs": [],
      "source": [
        "%%file test_mazo.py\n",
        "\n",
        "import random\n",
        "from test_carta import Carta # Importamos carta\n",
        "# escribí tu código acá\n",
        "# No olvides copiar lo que resolviste en el punto anterior!"
      ]
    },
    {
      "cell_type": "code",
      "execution_count": null,
      "metadata": {
        "id": "9J2VWPiGOR-a"
      },
      "outputs": [],
      "source": [
        "!python -m pytest"
      ]
    },
    {
      "cell_type": "markdown",
      "metadata": {
        "id": "7U6z7JQneWSM"
      },
      "source": [
        "**Ejercicio 8**: Implementar un método `sacar_carta` para robar una carta del mazo, es decir, para sacar aquella que se encuentra primera, en la cima del mazo.\n",
        "\n"
      ]
    },
    {
      "cell_type": "code",
      "execution_count": null,
      "metadata": {
        "id": "bNZNdtm8fVDM"
      },
      "outputs": [],
      "source": [
        "%%file test_mazo.py\n",
        "\n",
        "import random\n",
        "from test_carta import Carta # Importamos carta\n",
        "# escribí tu código acá\n",
        "# No olvides copiar lo que resolviste en el punto anterior!"
      ]
    },
    {
      "cell_type": "code",
      "execution_count": null,
      "metadata": {
        "id": "0_pcJRlZOrh8"
      },
      "outputs": [],
      "source": [
        "!python -m pytest"
      ]
    },
    {
      "cell_type": "markdown",
      "metadata": {
        "id": "fV0CI5Gyf3vQ"
      },
      "source": [
        "**Ejercicio 9**: Implementar un método que nos permita saber si quedan cartas en el mazo"
      ]
    },
    {
      "cell_type": "code",
      "execution_count": null,
      "metadata": {
        "id": "MJWEuwTFgCLg"
      },
      "outputs": [],
      "source": [
        "%%file test_mazo.py\n",
        "\n",
        "import random\n",
        "from test_carta import Carta # Importamos carta\n",
        "# escribí tu código acá\n",
        "# No olvides copiar lo que resolviste en el punto anterior!\n",
        "\n"
      ]
    },
    {
      "cell_type": "code",
      "execution_count": null,
      "metadata": {
        "id": "vVhoOveiPAG4"
      },
      "outputs": [],
      "source": [
        "!python -m pytest"
      ]
    },
    {
      "cell_type": "markdown",
      "metadata": {
        "id": "3FEE88fogZ0K"
      },
      "source": [
        "**Ejercicio 10** Escribir una clase Mano, que represente la mano de un jugador en algún juego de cartas. Tener en cuenta que necesitaremos los métodos `sacar_carta` y otros ya definidos en Mazo. Además, necesitaremos asociar el nombre del jugador que tiene esta mano."
      ]
    },
    {
      "cell_type": "code",
      "execution_count": null,
      "metadata": {
        "id": "KNzZlwkihQ7R"
      },
      "outputs": [],
      "source": [
        "%%file test_mano.py\n",
        "from test_mazo import Mazo # Importamos Mazo\n",
        "# escribí tu código acá\n"
      ]
    },
    {
      "cell_type": "code",
      "execution_count": null,
      "metadata": {
        "id": "jijTFtetPTyP"
      },
      "outputs": [],
      "source": [
        "!python -m pytest"
      ]
    },
    {
      "cell_type": "markdown",
      "metadata": {
        "id": "Ao7G-1t6hmcg"
      },
      "source": [
        "**Ejercicio 11**: Necesitaremos que una mano tenga funcionalidad para agregar cartas a la mano y sacar cartas de la mano. ¿Cuántos métodos debemos definir? Definir solamente aquellos métodos necesarios."
      ]
    },
    {
      "cell_type": "code",
      "execution_count": null,
      "metadata": {
        "id": "QRy3ACYThl1L"
      },
      "outputs": [],
      "source": [
        "%%file test_mano.py\n",
        "from test_mazo import Mazo # Importamos Mazo\n",
        "from test_carta import Carta # Importamos Carta\n",
        "# escribí tu código acá\n",
        "# No olvides copiar lo que resolviste en el punto anterior!"
      ]
    },
    {
      "cell_type": "code",
      "execution_count": null,
      "metadata": {
        "id": "t1df3UNVP0DE"
      },
      "outputs": [],
      "source": [
        "!python -m pytest"
      ]
    },
    {
      "cell_type": "markdown",
      "metadata": {
        "id": "nsyfTNwFiOs-"
      },
      "source": [
        "**Ejercicio 12**: Agregar al mazo un método para repartir cartas. El método deberia recibir una lista de manos, las cuales reciben las cartas, y la cantidad de cartas a repartir en cada mano.\n",
        "\n"
      ]
    },
    {
      "cell_type": "code",
      "execution_count": null,
      "metadata": {
        "id": "V-TOLCSpiz41"
      },
      "outputs": [],
      "source": [
        "%%file test_mazo.py\n",
        "\n",
        "import random\n",
        "from test_carta import Carta # Importamos carta\n",
        "# escribí tu código acá\n",
        "# No olvides copiar lo que resolviste en el punto anterior!"
      ]
    },
    {
      "cell_type": "code",
      "execution_count": null,
      "metadata": {
        "id": "5p5yojj5QlA1"
      },
      "outputs": [],
      "source": [
        "!python -m pytest"
      ]
    },
    {
      "cell_type": "markdown",
      "metadata": {
        "id": "ejwTbqtUjump"
      },
      "source": [
        "**Ejercicio 13**: Agregar funcionalidad para imprimir una mano, mostrando a quien pertenece y cuales cartas contiene."
      ]
    },
    {
      "cell_type": "code",
      "execution_count": null,
      "metadata": {
        "id": "GJjx-RU5jjp0"
      },
      "outputs": [],
      "source": [
        "%%file test_mano.py\n",
        "from test_mazo import Mazo # Importamos Mazo\n",
        "from test_carta import Carta # Importamos Carta\n",
        "# escribí tu código acá\n",
        "# No olvides copiar lo que resolviste más arriba!"
      ]
    },
    {
      "cell_type": "code",
      "execution_count": null,
      "metadata": {
        "id": "eOvrOqoCRC0O"
      },
      "outputs": [],
      "source": [
        "!python -m pytest"
      ]
    },
    {
      "cell_type": "markdown",
      "metadata": {
        "id": "XVAAIrjq6JAW"
      },
      "source": [
        "**Ejercicio 14**: Agregar una clase Juego que represente un juego arbitrario con cartas españolas. Recordar que un juego con cartas españolas siempre involucra un mazo que generalmente se mezcla."
      ]
    },
    {
      "cell_type": "code",
      "execution_count": null,
      "metadata": {
        "id": "rjLzRSINkIKe"
      },
      "outputs": [],
      "source": [
        "%%file test_juego.py\n",
        "from test_mazo import Mazo # Importamos Mazo\n",
        "# escribí tu código acá\n"
      ]
    },
    {
      "cell_type": "code",
      "execution_count": null,
      "metadata": {
        "id": "UaM4bzjTRi-z"
      },
      "outputs": [],
      "source": [
        "!python -m pytest"
      ]
    },
    {
      "cell_type": "markdown",
      "metadata": {
        "id": "Bv4Flv9bRmWe"
      },
      "source": [
        "**Ejercicio 15**: Heredar una clase TrucoArgentino que represente un juego de truco argentino para dos jugadores. Recordar:\n",
        "\n",
        "- Antes de empezar a jugar se deben quitar los 8 y los 9 de todos los palos y los dos comodines.\n",
        "- se deben inicializar dos manos de tres cartas cada una. Se reciben por parámetros al constructor los nombres de ambos jugadores."
      ]
    },
    {
      "cell_type": "code",
      "execution_count": null,
      "metadata": {
        "id": "iT2PHuJl6Hv1"
      },
      "outputs": [],
      "source": [
        "%%file test_truco_argentino.py\n",
        "from test_juego import Juego\n",
        "from test_mano import Mano\n",
        "from test_carta import Carta \n",
        "# escribí tu código acá\n"
      ]
    },
    {
      "cell_type": "code",
      "execution_count": null,
      "metadata": {
        "id": "QpxWpdsvTTTm"
      },
      "outputs": [],
      "source": [
        "! python -m pytest"
      ]
    },
    {
      "cell_type": "markdown",
      "metadata": {
        "id": "x2UnxVlPTuhE"
      },
      "source": [
        "**Ejercicio 16**: Implementar un método `.gana_envido()` que devuelva el nombre del jugador que tiene más puntos de envido. \n",
        "\n",
        "* Asumimos que nuestros jugadores son muy malos en el truco y nunca mienten.\n",
        "* Jugamos sin flor (las tres cartas del mismo palo).\n",
        "* Recordar que para calcular el envido, si un jugador posee dos o más cartas de igual palo, los puntos de envido equivalen a la suma del puntaje de dos cartas del mismo palo elegidas por el jugador más veinte puntos (10, 11 y 12 no suman). Jugamos asumiendo que mano1 es mano del partido (es decir, gana el envido en caso de empate).\n"
      ]
    },
    {
      "cell_type": "code",
      "execution_count": null,
      "metadata": {
        "id": "doVFXtuST6cX"
      },
      "outputs": [],
      "source": [
        "%%file test_truco_argentino.py\n",
        "from test_juego import Juego\n",
        "from test_mano import Mano\n",
        "from test_carta import Carta\n",
        "# escribi tu codigo aca.\n",
        "# No olvides copiar lo que resolviste más arriba!"
      ]
    },
    {
      "cell_type": "code",
      "execution_count": null,
      "metadata": {
        "id": "wG1NW8-kaOXL"
      },
      "outputs": [],
      "source": [
        "!python -m pytest"
      ]
    }
  ],
  "metadata": {
    "colab": {
      "collapsed_sections": [
        "fqqZSo3CVoLv",
        "svFLCJiR_Vcc",
        "TvoEXzScDpS7",
        "jgkXWXjqF6RL"
      ],
      "name": "TUIA - Prog2 - Practica0 - Alumnos.ipynb",
      "provenance": []
    },
    "kernelspec": {
      "display_name": "Python 3",
      "language": "python",
      "name": "python3"
    },
    "language_info": {
      "name": "python",
      "version": "3.10.9 (tags/v3.10.9:1dd9be6, Dec  6 2022, 20:01:21) [MSC v.1934 64 bit (AMD64)]"
    },
    "vscode": {
      "interpreter": {
        "hash": "ec8e9f70b97bcbb31cfe61427b5c1a80cbd771ccc80c0de317c984106d34155e"
      }
    }
  },
  "nbformat": 4,
  "nbformat_minor": 0
}
