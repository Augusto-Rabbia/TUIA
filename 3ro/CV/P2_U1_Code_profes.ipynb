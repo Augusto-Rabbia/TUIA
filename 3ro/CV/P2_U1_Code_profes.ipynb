{
  "nbformat": 4,
  "nbformat_minor": 0,
  "metadata": {
    "colab": {
      "provenance": []
    },
    "kernelspec": {
      "name": "python3",
      "display_name": "Python 3"
    },
    "language_info": {
      "name": "python"
    }
  },
  "cells": [
    {
      "cell_type": "code",
      "source": [
        "%matplotlib notebook"
      ],
      "metadata": {
        "id": "pjpYs-qyX4p6"
      },
      "execution_count": null,
      "outputs": []
    },
    {
      "cell_type": "code",
      "source": [
        "!pip install -q gradio pillow numpy matplotlib"
      ],
      "metadata": {
        "id": "__mu1MvkYOVG"
      },
      "execution_count": null,
      "outputs": []
    },
    {
      "cell_type": "code",
      "execution_count": null,
      "metadata": {
        "colab": {
          "base_uri": "https://localhost:8080/",
          "height": 697
        },
        "id": "1Ej1SIf1Xpx8",
        "outputId": "bc272f5a-7be3-4006-cc25-d7f530ee39b5"
      },
      "outputs": [
        {
          "output_type": "stream",
          "name": "stdout",
          "text": [
            "Descargando imagen térmica...\n",
            "Imagen cargada con éxito. Dimensiones: (438, 511, 3)\n",
            "Iniciando la interfaz de Gradio...\n",
            "Colab notebook detected. This cell will run indefinitely so that you can see errors and logs. To turn off, set debug=False in launch().\n",
            "* Running on public URL: https://1a82fb5ea13d3bb1e9.gradio.live\n",
            "\n",
            "This share link expires in 72 hours. For free permanent hosting and GPU upgrades, run `gradio deploy` from the terminal in the working directory to deploy to Hugging Face Spaces (https://huggingface.co/spaces)\n"
          ]
        },
        {
          "output_type": "display_data",
          "data": {
            "text/plain": [
              "<IPython.core.display.HTML object>"
            ],
            "text/html": [
              "<div><iframe src=\"https://1a82fb5ea13d3bb1e9.gradio.live\" width=\"100%\" height=\"500\" allow=\"autoplay; camera; microphone; clipboard-read; clipboard-write;\" frameborder=\"0\" allowfullscreen></iframe></div>"
            ]
          },
          "metadata": {}
        },
        {
          "output_type": "stream",
          "name": "stdout",
          "text": [
            "Keyboard interruption in main thread... closing server.\n",
            "Killing tunnel 127.0.0.1:7860 <> https://1a82fb5ea13d3bb1e9.gradio.live\n"
          ]
        },
        {
          "output_type": "execute_result",
          "data": {
            "text/plain": []
          },
          "metadata": {},
          "execution_count": 23
        }
      ],
      "source": [
        "# Instalamos las dependencias necesarias\n",
        "!pip install -q gradio pillow numpy matplotlib\n",
        "\n",
        "# Importamos las bibliotecas\n",
        "import numpy as np\n",
        "import matplotlib.pyplot as plt\n",
        "import matplotlib.colors as mcolors\n",
        "import requests\n",
        "from io import BytesIO\n",
        "from PIL import Image, ImageDraw\n",
        "import gradio as gr\n",
        "\n",
        "# URL de la imagen\n",
        "url = 'https://www.builditsolar.com/Experimental/IRCamera/IR_0007.jpg'\n",
        "\n",
        "# Descargamos la imagen\n",
        "print(\"Descargando imagen térmica...\")\n",
        "response = requests.get(url)\n",
        "img = Image.open(BytesIO(response.content))\n",
        "img_array = np.array(img)\n",
        "print(f\"Imagen cargada con éxito. Dimensiones: {img_array.shape}\")\n",
        "\n",
        "# Función para procesar la imagen y extraer colores\n",
        "def process_image(x, y):\n",
        "    # Aseguramos que x e y sean enteros válidos\n",
        "    x = int(min(max(0, x), img_array.shape[1] - 1))\n",
        "    y = int(min(max(0, y), img_array.shape[0] - 1))\n",
        "\n",
        "    # Creamos una copia de la imagen para dibujar\n",
        "    img_copy = img_array.copy()\n",
        "\n",
        "    # Dibujamos líneas horizontales y verticales para la cruz (usando numpy)\n",
        "    img_copy[y, :] = [255, 0, 0]  # Línea horizontal roja\n",
        "    img_copy[:, x] = [255, 0, 0]  # Línea vertical roja\n",
        "\n",
        "    # Dibujamos un punto rojo más grande en la intersección\n",
        "    for i in range(-3, 4):\n",
        "        for j in range(-3, 4):\n",
        "            if 0 <= y+i < img_array.shape[0] and 0 <= x+j < img_array.shape[1]:\n",
        "                if i*i + j*j <= 9:  # Círculo de radio 3\n",
        "                    img_copy[y+i, x+j] = [255, 0, 0]\n",
        "\n",
        "    # Obtenemos el color RGB en esa posición\n",
        "    rgb = img_array[y, x]\n",
        "    r, g, b = rgb\n",
        "\n",
        "    # Creamos una muestra de color\n",
        "    color_sample = np.ones((100, 100, 3), dtype=np.uint8)\n",
        "    color_sample[:, :] = rgb\n",
        "\n",
        "    # Información de color\n",
        "    hex_color = mcolors.rgb2hex(np.array([r, g, b])/255.0)\n",
        "    info = f\"Posición: ({x}, {y})\\nRGB: ({r}, {g}, {b})\\nHEX: {hex_color}\"\n",
        "\n",
        "    return img_copy, color_sample, info\n",
        "\n",
        "# Valores iniciales (centro de la imagen)\n",
        "x_initial = img_array.shape[1] // 2\n",
        "y_initial = img_array.shape[0] // 2\n",
        "\n",
        "# Creamos la interfaz de Gradio\n",
        "with gr.Blocks() as demo:\n",
        "    gr.Markdown(\"# Visualizador de Imagen Térmica con Extractor de Color RGB\")\n",
        "\n",
        "    with gr.Row():\n",
        "        # Columna para la imagen principal\n",
        "        with gr.Column(scale=3):\n",
        "            # Mostramos la imagen procesada inicialmente\n",
        "            img_processed, _, _ = process_image(x_initial, y_initial)\n",
        "            img_output = gr.Image(value=img_processed, label=\"Imagen Térmica\")\n",
        "\n",
        "        # Columna para información de color\n",
        "        with gr.Column(scale=1):\n",
        "            color_preview = gr.Image(value=process_image(x_initial, y_initial)[1],\n",
        "                                    label=\"Muestra de Color\")\n",
        "            color_info = gr.Textbox(value=process_image(x_initial, y_initial)[2],\n",
        "                                  label=\"Información de Color\", lines=3)\n",
        "\n",
        "    # Controles para las coordenadas\n",
        "    with gr.Row():\n",
        "        x_slider = gr.Slider(0, img_array.shape[1]-1, value=x_initial, step=1,\n",
        "                           label=\"Coordenada X\")\n",
        "        y_slider = gr.Slider(0, img_array.shape[0]-1, value=y_initial, step=1,\n",
        "                           label=\"Coordenada Y\")\n",
        "\n",
        "    # Entradas numéricas para coordenadas exactas\n",
        "    with gr.Row():\n",
        "        x_input = gr.Number(value=x_initial, label=\"X\", precision=0)\n",
        "        y_input = gr.Number(value=y_initial, label=\"Y\", precision=0)\n",
        "\n",
        "    # Función para actualizar desde sliders\n",
        "    def update_from_sliders(x, y):\n",
        "        return process_image(x, y)\n",
        "\n",
        "    # Función para actualizar desde entradas numéricas\n",
        "    def update_from_inputs(x, y):\n",
        "        x = int(min(max(0, x), img_array.shape[1] - 1))\n",
        "        y = int(min(max(0, y), img_array.shape[0] - 1))\n",
        "        return x, y, *process_image(x, y)\n",
        "\n",
        "    # Conectamos los eventos\n",
        "    x_slider.change(update_from_sliders, inputs=[x_slider, y_slider],\n",
        "                   outputs=[img_output, color_preview, color_info])\n",
        "    y_slider.change(update_from_sliders, inputs=[x_slider, y_slider],\n",
        "                   outputs=[img_output, color_preview, color_info])\n",
        "\n",
        "    x_input.change(update_from_inputs, inputs=[x_input, y_input],\n",
        "                  outputs=[x_slider, y_slider, img_output, color_preview, color_info])\n",
        "    y_input.change(update_from_inputs, inputs=[x_input, y_input],\n",
        "                  outputs=[x_slider, y_slider, img_output, color_preview, color_info])\n",
        "\n",
        "    # Instrucciones\n",
        "    gr.Markdown(\"\"\"\n",
        "    ### Instrucciones de uso:\n",
        "    1. Usa los sliders para seleccionar coordenadas en la imagen\n",
        "    2. O ingresa coordenadas específicas en los campos numéricos\n",
        "    3. Los valores RGB y HEX se mostrarán automáticamente\n",
        "    \"\"\")\n",
        "\n",
        "# Lanzamos la aplicación\n",
        "print(\"Iniciando la interfaz de Gradio...\")\n",
        "demo.launch(debug=True, share=True)"
      ]
    }
  ]
}